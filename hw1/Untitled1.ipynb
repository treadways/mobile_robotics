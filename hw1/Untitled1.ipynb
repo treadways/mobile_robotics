{
 "cells": [
  {
   "cell_type": "code",
   "execution_count": 1,
   "id": "9e7a4458",
   "metadata": {},
   "outputs": [],
   "source": [
    "from scipy.linalg import logm, expm\n",
    "import numpy as np"
   ]
  },
  {
   "cell_type": "code",
   "execution_count": 2,
   "id": "e9717d58",
   "metadata": {},
   "outputs": [
    {
     "data": {
      "text/plain": [
       "array([[ 0.433 ,  0.1768,  0.8839,  1.    ],\n",
       "       [ 0.25  ,  0.9186, -0.3062,  1.    ],\n",
       "       [-0.866 ,  0.3536,  0.3536,  0.    ],\n",
       "       [ 0.    ,  0.    ,  0.    ,  1.    ]])"
      ]
     },
     "execution_count": 2,
     "metadata": {},
     "output_type": "execute_result"
    }
   ],
   "source": [
    "x = np.array([[0.433,0.1768,0.8839,1],[0.25,0.9186,-0.3062,1],[-0.866,0.3536,0.3536,0],[0,0,0,1]])\n",
    "x"
   ]
  },
  {
   "cell_type": "code",
   "execution_count": 3,
   "id": "3148925f",
   "metadata": {},
   "outputs": [
    {
     "data": {
      "text/plain": [
       "array([[ 0.75  ,  0.1768,  0.8839,  2.    ],\n",
       "       [ 0.433 ,  0.9186, -0.3062,  4.    ],\n",
       "       [-0.5   ,  0.3536,  0.3536,  3.    ],\n",
       "       [ 0.    ,  0.    ,  0.    ,  1.    ]])"
      ]
     },
     "execution_count": 3,
     "metadata": {},
     "output_type": "execute_result"
    }
   ],
   "source": [
    "y = np.array([[0.75,0.1768,0.8839,2],[0.433,0.9186,-0.3062,4],[-0.5,0.3536,0.3536,3],[0,0,0,1]])\n",
    "y"
   ]
  },
  {
   "cell_type": "code",
   "execution_count": 4,
   "id": "cfbfa813",
   "metadata": {},
   "outputs": [
    {
     "data": {
      "text/plain": [
       "array([[ 0.59719539,  0.1768    ,  0.8839    ,  1.56017063],\n",
       "       [ 0.34478787,  0.9186    , -0.3062    ,  2.53473573],\n",
       "       [-0.67642425,  0.3536    ,  0.3536    ,  1.56947145],\n",
       "       [ 0.        ,  0.        ,  0.        ,  1.        ]])"
      ]
     },
     "execution_count": 4,
     "metadata": {},
     "output_type": "execute_result"
    }
   ],
   "source": [
    "x@expm(0.5*logm(np.linalg.inv(x)@y))"
   ]
  },
  {
   "cell_type": "code",
   "execution_count": null,
   "id": "daada52a",
   "metadata": {},
   "outputs": [],
   "source": []
  },
  {
   "cell_type": "code",
   "execution_count": null,
   "id": "68bd6a8a",
   "metadata": {},
   "outputs": [],
   "source": []
  }
 ],
 "metadata": {
  "kernelspec": {
   "display_name": "Python 3 (ipykernel)",
   "language": "python",
   "name": "python3"
  },
  "language_info": {
   "codemirror_mode": {
    "name": "ipython",
    "version": 3
   },
   "file_extension": ".py",
   "mimetype": "text/x-python",
   "name": "python",
   "nbconvert_exporter": "python",
   "pygments_lexer": "ipython3",
   "version": "3.9.12"
  }
 },
 "nbformat": 4,
 "nbformat_minor": 5
}
