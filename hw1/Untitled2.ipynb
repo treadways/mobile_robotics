{
 "cells": [
  {
   "cell_type": "code",
   "execution_count": 1,
   "id": "c57721bd",
   "metadata": {},
   "outputs": [],
   "source": [
    "kt = 0.0005276\n",
    "m = 65"
   ]
  },
  {
   "cell_type": "code",
   "execution_count": 2,
   "id": "1045fc3e",
   "metadata": {},
   "outputs": [
    {
     "data": {
      "text/plain": [
       "3.2467692307692306e-05"
      ]
     },
     "execution_count": 2,
     "metadata": {},
     "output_type": "execute_result"
    }
   ],
   "source": [
    "c1 = 4*kt/65\n",
    "c1"
   ]
  },
  {
   "cell_type": "code",
   "execution_count": null,
   "id": "992e2e6f",
   "metadata": {},
   "outputs": [],
   "source": []
  },
  {
   "cell_type": "code",
   "execution_count": null,
   "id": "38504064",
   "metadata": {},
   "outputs": [],
   "source": []
  }
 ],
 "metadata": {
  "kernelspec": {
   "display_name": "Python 3 (ipykernel)",
   "language": "python",
   "name": "python3"
  },
  "language_info": {
   "codemirror_mode": {
    "name": "ipython",
    "version": 3
   },
   "file_extension": ".py",
   "mimetype": "text/x-python",
   "name": "python",
   "nbconvert_exporter": "python",
   "pygments_lexer": "ipython3",
   "version": "3.9.12"
  }
 },
 "nbformat": 4,
 "nbformat_minor": 5
}
