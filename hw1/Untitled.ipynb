{
 "cells": [
  {
   "cell_type": "code",
   "execution_count": 1,
   "id": "817562e4",
   "metadata": {},
   "outputs": [],
   "source": [
    "import numpy as np"
   ]
  },
  {
   "cell_type": "code",
   "execution_count": 2,
   "id": "075a1462",
   "metadata": {},
   "outputs": [],
   "source": [
    "op1 = np.array([2,3,-3])\n",
    "op2 = np.array([0,0,-3])\n",
    "op3 = np.array([-1,-2,2])\n",
    "op4 = np.array([-1,0,-2])\n",
    "\n",
    "objectArray = [op1,op2,op3,op4]\n",
    "\n",
    "sp1 = np.array([-1.384, 4.562,-0.128])\n",
    "sp2 = np.array([-.9608, 1.311,-1.628])\n",
    "sp3 = np.array([1.325,-2.389,1.702])\n",
    "sp4 = np.array([-1.314,0.2501,-0.762])\n",
    "\n",
    "cameraArray = [sp1,sp2,sp3,sp4]"
   ]
  },
  {
   "cell_type": "code",
   "execution_count": 3,
   "id": "f921f842",
   "metadata": {},
   "outputs": [],
   "source": [
    "objectCenter = (op1+op2+op3+op4)/4\n",
    "cameraCenter = (sp1+sp2+sp3+sp4)/4"
   ]
  },
  {
   "cell_type": "code",
   "execution_count": 4,
   "id": "efe5f5c4",
   "metadata": {},
   "outputs": [
    {
     "data": {
      "text/plain": [
       "array([ 0.  ,  0.25, -1.5 ])"
      ]
     },
     "execution_count": 4,
     "metadata": {},
     "output_type": "execute_result"
    }
   ],
   "source": [
    "objectCenter"
   ]
  },
  {
   "cell_type": "code",
   "execution_count": 5,
   "id": "9c799042",
   "metadata": {},
   "outputs": [
    {
     "data": {
      "text/plain": [
       "array([-0.58345 ,  0.933525, -0.204   ])"
      ]
     },
     "execution_count": 5,
     "metadata": {},
     "output_type": "execute_result"
    }
   ],
   "source": [
    "cameraCenter"
   ]
  },
  {
   "cell_type": "code",
   "execution_count": 6,
   "id": "72537ce7",
   "metadata": {},
   "outputs": [
    {
     "data": {
      "text/plain": [
       "array([ 0.58345 , -0.683525, -1.296   ])"
      ]
     },
     "execution_count": 6,
     "metadata": {},
     "output_type": "execute_result"
    }
   ],
   "source": [
    "translation = objectCenter - cameraCenter\n",
    "translation"
   ]
  },
  {
   "cell_type": "code",
   "execution_count": 7,
   "id": "8673558b",
   "metadata": {},
   "outputs": [
    {
     "data": {
      "text/plain": [
       "[array([ 2.  ,  2.75, -1.5 ]),\n",
       " array([ 0.  , -0.25, -1.5 ]),\n",
       " array([-1.  , -2.25,  3.5 ]),\n",
       " array([-1.  , -0.25, -0.5 ])]"
      ]
     },
     "execution_count": 7,
     "metadata": {},
     "output_type": "execute_result"
    }
   ],
   "source": [
    "adjustedObject = []\n",
    "for point in objectArray:\n",
    "    adjustedObject.append(point-objectCenter)\n",
    "\n",
    "adjustedObject"
   ]
  },
  {
   "cell_type": "code",
   "execution_count": 8,
   "id": "e1da0c88",
   "metadata": {},
   "outputs": [
    {
     "data": {
      "text/plain": [
       "[array([-0.80055 ,  3.628475,  0.076   ]),\n",
       " array([-0.37735 ,  0.377475, -1.424   ]),\n",
       " array([ 1.90845 , -3.322525,  1.906   ]),\n",
       " array([-0.73055 , -0.683425, -0.558   ])]"
      ]
     },
     "execution_count": 8,
     "metadata": {},
     "output_type": "execute_result"
    }
   ],
   "source": [
    "adjustedCamera = []\n",
    "for point in cameraArray:\n",
    "    adjustedCamera.append(point-cameraCenter)\n",
    "\n",
    "adjustedCamera"
   ]
  },
  {
   "cell_type": "code",
   "execution_count": 9,
   "id": "ad026a11",
   "metadata": {},
   "outputs": [
    {
     "data": {
      "text/plain": [
       "array([[ 2,  3, -3,  1],\n",
       "       [ 0,  0, -3,  1],\n",
       "       [-1, -2,  2,  1],\n",
       "       [-1,  0, -2,  1]])"
      ]
     },
     "execution_count": 9,
     "metadata": {},
     "output_type": "execute_result"
    }
   ],
   "source": [
    "objectPoints = np.array([[2,3,-3,1],[0,0,-3,1],[-1,-2,2,1],[-1,0,-2,1]])\n",
    "objectPoints"
   ]
  },
  {
   "cell_type": "code",
   "execution_count": 10,
   "id": "9fb72abf",
   "metadata": {},
   "outputs": [],
   "source": [
    "cameraXpoints = np.array([-1.384,-.9608,1.325,-1.314])\n",
    "cameraYpoints = np.array([4.5620,1.311,-2.389,0.2501])\n",
    "cameraZpoints = np.array([-0.1280,-1.6280,1.7020,-0.7620])"
   ]
  },
  {
   "cell_type": "code",
   "execution_count": 11,
   "id": "6dde77e1",
   "metadata": {},
   "outputs": [
    {
     "data": {
      "text/plain": [
       "array([ 0.7068125, -0.612275 ,  0.3536125,  0.1000375])"
      ]
     },
     "execution_count": 11,
     "metadata": {},
     "output_type": "execute_result"
    }
   ],
   "source": [
    "rotationArrayX = np.linalg.inv(objectPoints)@cameraXpoints\n",
    "rotationArrayX"
   ]
  },
  {
   "cell_type": "code",
   "execution_count": 12,
   "id": "f8e9e12b",
   "metadata": {},
   "outputs": [
    {
     "data": {
      "text/plain": [
       "array([ 0.70721875,  0.6121875 , -0.35368125,  0.24995625])"
      ]
     },
     "execution_count": 12,
     "metadata": {},
     "output_type": "execute_result"
    }
   ],
   "source": [
    "rotationArrayY = np.linalg.inv(objectPoints)@cameraYpoints\n",
    "rotationArrayY"
   ]
  },
  {
   "cell_type": "code",
   "execution_count": 14,
   "id": "8336512c",
   "metadata": {},
   "outputs": [
    {
     "data": {
      "text/plain": [
       "array([2.22044605e-16, 5.00000000e-01, 8.66000000e-01, 9.70000000e-01])"
      ]
     },
     "execution_count": 14,
     "metadata": {},
     "output_type": "execute_result"
    }
   ],
   "source": [
    "rotationArrayZ = np.linalg.inv(objectPoints)@cameraZpoints\n",
    "rotationArrayZ"
   ]
  },
  {
   "cell_type": "code",
   "execution_count": 16,
   "id": "02608cd9",
   "metadata": {},
   "outputs": [
    {
     "data": {
      "text/plain": [
       "1.5770974377396598"
      ]
     },
     "execution_count": 16,
     "metadata": {},
     "output_type": "execute_result"
    }
   ],
   "source": [
    "np.sqrt(0.58345*0.58345+0.683525*0.683525+1.296*1.296)\n"
   ]
  },
  {
   "cell_type": "code",
   "execution_count": 17,
   "id": "9a96f4f1",
   "metadata": {},
   "outputs": [
    {
     "data": {
      "text/plain": [
       "1.006677704133751"
      ]
     },
     "execution_count": 17,
     "metadata": {},
     "output_type": "execute_result"
    }
   ],
   "source": [
    "np.sqrt(0.1*0.1+0.25*0.25+0.97*0.97)"
   ]
  },
  {
   "cell_type": "code",
   "execution_count": 19,
   "id": "445bc890",
   "metadata": {},
   "outputs": [
    {
     "data": {
      "text/plain": [
       "array([-1.3857,  4.5621, -0.128 ])"
      ]
     },
     "execution_count": 19,
     "metadata": {},
     "output_type": "execute_result"
    }
   ],
   "source": [
    "rotationMatrix = np.array([[0.706,-0.6123,0.3536],[0.7072,0.6122,-0.3537],[0,0.5,0.866]])\n",
    "translationMatrix = np.array([0.1,0.25,0.97])\n",
    "\n",
    "rotationMatrix@op1+translationMatrix"
   ]
  },
  {
   "cell_type": "code",
   "execution_count": null,
   "id": "00c558e3",
   "metadata": {},
   "outputs": [],
   "source": []
  }
 ],
 "metadata": {
  "kernelspec": {
   "display_name": "Python 3 (ipykernel)",
   "language": "python",
   "name": "python3"
  },
  "language_info": {
   "codemirror_mode": {
    "name": "ipython",
    "version": 3
   },
   "file_extension": ".py",
   "mimetype": "text/x-python",
   "name": "python",
   "nbconvert_exporter": "python",
   "pygments_lexer": "ipython3",
   "version": "3.9.12"
  }
 },
 "nbformat": 4,
 "nbformat_minor": 5
}
