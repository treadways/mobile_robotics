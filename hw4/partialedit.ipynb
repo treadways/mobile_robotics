{
 "cells": [
  {
   "cell_type": "code",
   "execution_count": null,
   "metadata": {
    "id": "orxtF1r-EJqT"
   },
   "outputs": [],
   "source": [
    "from PIL import Image, ImageDraw\n",
    "import numpy as np\n",
    "import matplotlib.pyplot as plt\n",
    "from mpl_toolkits import mplot3d\n",
    "import time"
   ]
  },
  {
   "cell_type": "code",
   "execution_count": null,
   "metadata": {
    "id": "f3aZhHI6DZpd"
   },
   "outputs": [],
   "source": [
    "def get_files(file_name):\n",
    "    point_cloud= []\n",
    "    with open(file_name) as f:\n",
    "        lines = f.readlines()\n",
    "        for line in lines:\n",
    "            line = line.split()\n",
    "            point_cloud.append([float(line[0]),float(line[1]),float(line[2])])\n",
    "    return np.array(point_cloud)  "
   ]
  },
  {
   "cell_type": "code",
   "execution_count": null,
   "metadata": {
    "id": "NS1vpAK8FJjh"
   },
   "outputs": [],
   "source": [
    "def plot( Y_PointCloud, Transformed_x):\n",
    "  ## Plot point clouds\n",
    "    fig = plt.figure(figsize=(20,20))\n",
    "    ax = plt.axes(projection='3d')\n",
    "    y_tr = Y_PointCloud.T\n",
    "    \n",
    "    ax.scatter3D(y_tr[0], y_tr[1], y_tr[2],color='r',s=1)\n",
    "    ax.scatter3D(Transformed_x[0], Transformed_x[1], Transformed_x[2],color='b',s=1)\n",
    "    ax.view_init(0,0)\n",
    "    plt.show()"
   ]
  },
  {
   "cell_type": "code",
   "execution_count": null,
   "metadata": {
    "id": "lyIb00dYLYWR"
   },
   "outputs": [],
   "source": [
    "def estimate_correspondences(X,Y,t,R,dmax):\n",
    "    C =[]\n",
    "    for i in range (len(X)):\n",
    "        x = X[i].reshape(3,1)\n",
    "        y = (Y.T - (R.dot(x) + t))\n",
    "        y_norm = np.linalg.norm(y,axis=0)\n",
    "        y_min_index = np.argmin(y_norm)\n",
    "        if(y_norm[y_min_index]<dmax):\n",
    "            C.append((i,y_min_index))\n",
    "    return C\n"
   ]
  },
  {
   "cell_type": "code",
   "execution_count": 43,
   "metadata": {
    "id": "3hevA7WeLzvK"
   },
   "outputs": [],
   "source": [
    "def compute_optimal_rigid_registration(X,Y,C):\n",
    "    x_centroid= None\n",
    "    y_centroid = None\n",
    "    W = np.matrix([[0.,0.,0.],[0.,0.,0.],[0.,0.,0.]])\n",
    "    x_sum = np.matrix([0,0,0])\n",
    "    y_sum = np.matrix([0,0,0])\n",
    "    K = len(C)\n",
    "    assert K!=0,\"Correspondance List is empty, increase dmax value\"\n",
    "    for i,j in C:\n",
    "        x_sum = x_sum + X[i]\n",
    "        y_sum = y_sum + Y[j]\n",
    "    x_centroid = x_sum/K\n",
    "    y_centroid = y_sum/K\n",
    "\n",
    "    for i,j in C:\n",
    "        x_shifted = X[i] - x_centroid\n",
    "        y_shifted = np.transpose(Y[j] - y_centroid)\n",
    "        W += y_shifted.dot(x_shifted)\n",
    "    W = W/K\n",
    "    U, S, V_T = np.linalg.svd(W)\n",
    "    R_optimal = U.dot(V_T)\n",
    "    t_optimal = y_centroid.T - R_optimal.dot(x_centroid.T)\n",
    "\n",
    "    return t_optimal,R_optimal"
   ]
  },
  {
   "cell_type": "code",
   "execution_count": 42,
   "metadata": {
    "id": "Gg3Hs62sKqlE"
   },
   "outputs": [],
   "source": [
    "def icp(X_pointcloud,Y_pointcloud,num_ICP_iters,dmax):\n",
    "    iter_count = 0\n",
    "    correspondences = None\n",
    "    R0 =  np.array([[1,0,0],[0,1,0],[0,0,1]])\n",
    "    t0 = np.array([[0],[0],[0]])\n",
    "    R = None\n",
    "    t = None\n",
    "    while iter_count < num_ICP_iters:\n",
    "        if(iter_count == 0):\n",
    "            correspondences = estimate_correspondences(X_pointcloud,Y_pointcloud,t0,R0,dmax)\n",
    "        else:\n",
    "            correspondences = estimate_correspondences(X_pointcloud,Y_pointcloud,t,R,dmax)\n",
    "\n",
    "        t,R = compute_optimal_rigid_registration(X_pointcloud, Y_pointcloud, correspondences)\n",
    "        iter_count+=1\n",
    "            \n",
    "        \n",
    "    X_Trans = np.transpose(X_pointcloud)\n",
    "    Y_Trans = np.transpose(Y_pointcloud)\n",
    "    RMSE_SUM = 0\n",
    "    RMSE=0\n",
    "        \n",
    "    correspondences = estimate_correspondences(X_pointcloud,Y_pointcloud,t,R,dmax)\n",
    "\n",
    "\n",
    "    for i,j in correspondences:\n",
    "        x = X_Trans[:,[i]]\n",
    "        y = Y_Trans[:,[j]]\n",
    "        y_norm = np.linalg.norm(y - (R.dot(x) + t))\n",
    "        RMSE_SUM+=y_norm\n",
    "        \n",
    "    RMSE = np.sqrt((RMSE_SUM)/len(correspondences))\n",
    "    return(t,R,correspondences,RMSE)"
   ]
  },
  {
   "cell_type": "code",
   "execution_count": null,
   "metadata": {
    "colab": {
     "base_uri": "https://localhost:8080/",
     "height": 422
    },
    "id": "f1ggrx2cHbm2",
    "outputId": "94f14e14-81a1-4de5-d730-a8f4e6483bd1"
   },
   "outputs": [],
   "source": [
    "try:\n",
    "    nIters =30\n",
    "    max_distance = 0.25\n",
    "\n",
    "    X_PointCloud = get_files('pclX.txt')\n",
    "    Y_PointCloud = get_files('pclY.txt')\n",
    "\n",
    "    final_t, final_R, final_C,RMSE = icp(X_PointCloud,Y_PointCloud,nIters,max_distance)\n",
    "    \n",
    "    x_tr = X_PointCloud.T\n",
    "    y_tr = Y_PointCloud.T\n",
    "    Transformed_x = final_R.dot(x_tr) + final_t\n",
    "\n",
    "    print(f'RMSE : {RMSE}')  \n",
    "    print(f'Rotation matrix : {final_R}')\n",
    "    print(f'translation matrix : {final_t}')\n",
    "\n",
    "\n",
    "    plot( Y_PointCloud, Transformed_x)\n",
    "\n",
    "except Exception as e:\n",
    "    print(e)"
   ]
  },
  {
   "cell_type": "code",
   "execution_count": null,
   "metadata": {
    "id": "DLNs8pyJIlLD"
   },
   "outputs": [],
   "source": []
  }
 ],
 "metadata": {
  "colab": {
   "provenance": []
  },
  "kernelspec": {
   "display_name": "Python 3.9.6 64-bit",
   "language": "python",
   "name": "python3"
  },
  "language_info": {
   "codemirror_mode": {
    "name": "ipython",
    "version": 3
   },
   "file_extension": ".py",
   "mimetype": "text/x-python",
   "name": "python",
   "nbconvert_exporter": "python",
   "pygments_lexer": "ipython3",
   "version": "3.9.6"
  },
  "vscode": {
   "interpreter": {
    "hash": "31f2aee4e71d21fbe5cf8b01ff0e069b9275f58929596ceb00d14d90e3e16cd6"
   }
  }
 },
 "nbformat": 4,
 "nbformat_minor": 1
}
