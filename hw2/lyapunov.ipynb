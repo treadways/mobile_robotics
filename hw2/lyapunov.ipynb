{
 "cells": [
  {
   "cell_type": "code",
   "execution_count": 1,
   "id": "189c9af5",
   "metadata": {},
   "outputs": [],
   "source": [
    "from numpy import exp,arange,vectorize\n",
    "import math\n",
    "import matplotlib.pyplot as plot\n",
    "from pylab import meshgrid,cm,imshow,contour,clabel,colorbar,axis,title,show\n"
   ]
  },
  {
   "cell_type": "code",
   "execution_count": 2,
   "id": "f6412cd0",
   "metadata": {},
   "outputs": [],
   "source": [
    "friction = 0.1\n",
    "alpha = 2"
   ]
  },
  {
   "cell_type": "code",
   "execution_count": 3,
   "id": "0079bb65",
   "metadata": {},
   "outputs": [],
   "source": [
    "def lyapunov(x_1, x_2):\n",
    "    return -(1+math.cos(x_1))+alpha*(1-math.pow(math.cos(x_2), 2))+1/2*x_2*x_2\n",
    "L = vectorize(lyapunov)"
   ]
  },
  {
   "cell_type": "code",
   "execution_count": 4,
   "id": "6bd4ae91",
   "metadata": {},
   "outputs": [],
   "source": [
    "x_1 = arange(math.pi/2, 3*math.pi/2,0.1)\n",
    "x_2 = arange(-2,2,0.1)"
   ]
  },
  {
   "cell_type": "code",
   "execution_count": 5,
   "id": "04477148",
   "metadata": {},
   "outputs": [],
   "source": [
    "X_1,X_2 = meshgrid(x_1,x_2)\n",
    "V = L(X_1,X_2)"
   ]
  },
  {
   "cell_type": "code",
   "execution_count": 6,
   "id": "c162795f",
   "metadata": {},
   "outputs": [
    {
     "data": {
      "image/png": "[encoded data removed]",
      "text/plain": [
       "<Figure size 432x288 with 1 Axes>"
      ]
     },
     "metadata": {
      "needs_background": "light"
     },
     "output_type": "display_data"
    }
   ],
   "source": [
    "im = imshow(V, cmap=cm.RdBu)"
   ]
  }
 ],
 "metadata": {
  "kernelspec": {
   "display_name": "Python 3 (ipykernel)",
   "language": "python",
   "name": "python3"
  },
  "language_info": {
   "codemirror_mode": {
    "name": "ipython",
    "version": 3
   },
   "file_extension": ".py",
   "mimetype": "text/x-python",
   "name": "python",
   "nbconvert_exporter": "python",
   "pygments_lexer": "ipython3",
   "version": "3.9.12"
  }
 },
 "nbformat": 4,
 "nbformat_minor": 5
}
