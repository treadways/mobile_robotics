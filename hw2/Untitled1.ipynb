{
 "cells": [
  {
   "cell_type": "code",
   "execution_count": 1,
   "id": "5a2559a3",
   "metadata": {},
   "outputs": [],
   "source": [
    "import numpy as np\n",
    "import math\n",
    "import matplotlib.pyplot as plt\n"
   ]
  },
  {
   "cell_type": "code",
   "execution_count": 2,
   "id": "f380dc5e",
   "metadata": {},
   "outputs": [],
   "source": [
    "alpha = 2"
   ]
  },
  {
   "cell_type": "code",
   "execution_count": 3,
   "id": "f8b0bb89",
   "metadata": {},
   "outputs": [],
   "source": [
    "def tou(x):\n",
    "    x_1, x_2 = x\n",
    "    return -2*alpha*math.sin(x_1)*math.cos(x_1)"
   ]
  },
  {
   "cell_type": "code",
   "execution_count": 4,
   "id": "447b20d8",
   "metadata": {},
   "outputs": [
    {
     "ename": "TypeError",
     "evalue": "'float' object is not subscriptable",
     "output_type": "error",
     "traceback": [
      "\u001b[0;31m---------------------------------------------------------------------------\u001b[0m",
      "\u001b[0;31mTypeError\u001b[0m                                 Traceback (most recent call last)",
      "Input \u001b[0;32mIn [4]\u001b[0m, in \u001b[0;36m<cell line: 10>\u001b[0;34m()\u001b[0m\n\u001b[1;32m     13\u001b[0m y \u001b[38;5;241m=\u001b[39m X_2[i,j]\n\u001b[1;32m     14\u001b[0m yprime \u001b[38;5;241m=\u001b[39m tou([x,y])\n\u001b[0;32m---> 15\u001b[0m a[i,j] \u001b[38;5;241m=\u001b[39m \u001b[43myprime\u001b[49m\u001b[43m[\u001b[49m\u001b[38;5;241;43m0\u001b[39;49m\u001b[43m]\u001b[49m\n\u001b[1;32m     16\u001b[0m b[i,j] \u001b[38;5;241m=\u001b[39m yprime[\u001b[38;5;241m1\u001b[39m]\n",
      "\u001b[0;31mTypeError\u001b[0m: 'float' object is not subscriptable"
     ]
    }
   ],
   "source": [
    "x_1 = np.linspace(-10,10,20)\n",
    "x_2 = np.linspace(-10,10,20)\n",
    "\n",
    "X_1,X_2 = np.meshgrid(x_1,x_2)\n",
    "\n",
    "a,b = np.zeros(X_1.shape), np.zeros(X_2.shape)\n",
    "\n",
    "num_i, num_j = X_1.shape\n",
    "\n",
    "for i in range(num_i):\n",
    "    for j in range(num_j):\n",
    "        x = X_1[i,j]\n",
    "        y = X_2[i,j]\n",
    "        yprime = tou([x,y])\n",
    "        a[i,j] = yprime[0]\n",
    "        b[i,j] = yprime[1]"
   ]
  },
  {
   "cell_type": "code",
   "execution_count": null,
   "id": "8cbb0b5b",
   "metadata": {},
   "outputs": [],
   "source": [
    "q = plt.quiver(X_1,X_2,a,b,color='r')"
   ]
  }
 ],
 "metadata": {
  "kernelspec": {
   "display_name": "Python 3 (ipykernel)",
   "language": "python",
   "name": "python3"
  },
  "language_info": {
   "codemirror_mode": {
    "name": "ipython",
    "version": 3
   },
   "file_extension": ".py",
   "mimetype": "text/x-python",
   "name": "python",
   "nbconvert_exporter": "python",
   "pygments_lexer": "ipython3",
   "version": "3.9.12"
  }
 },
 "nbformat": 4,
 "nbformat_minor": 5
}
